{
 "cells": [
  {
   "cell_type": "code",
   "execution_count": 1,
   "id": "45219cbf",
   "metadata": {},
   "outputs": [],
   "source": [
    "import numpy as np\n",
    "import pandas as pd\n",
    "import scipy\n",
    "import matplotlib.pyplot as plt\n",
    "import matplotlib\n",
    "import math"
   ]
  },
  {
   "cell_type": "markdown",
   "id": "8e1fcd28",
   "metadata": {},
   "source": [
    "# Question 1a"
   ]
  },
  {
   "cell_type": "markdown",
   "id": "a7507562",
   "metadata": {},
   "source": [
    "The purpose of the following code is to implement the tridiagonal matrix solver as taught in lecture, first by performing $LU$ decomposition ($A=LU$), where the lower-triangular matrix $L$ has ones along the main diagonal, then applying forwards substitution to solve for $y$ in the equation $Ly=b$, where $y=Ux$, then to solve for $x$ in the equation $y=Ux$ to find the solution to the equation $Ax=b$. The function takes in 2 inputs, the input matrix $A$, and the vector of solutions $b$. "
   ]
  },
  {
   "cell_type": "code",
   "execution_count": 2,
   "id": "9afb481d",
   "metadata": {},
   "outputs": [],
   "source": [
    "def tridiagonal_solver(A, b):\n",
    "    m_list = [A[0][0]]\n",
    "    l_list = []\n",
    "    t_list = []\n",
    "    y_list = [b[0]]\n",
    "    for j in range(len(A)-1):\n",
    "        t_list.append(A[j][j+1])\n",
    "    for j in range(1, len(A)):\n",
    "        l_list.append(A[j][j-1]/m_list[j-1])\n",
    "        m_list.append(A[j][j] - (l_list[j-1]*A[j-1][j]))\n",
    "    for i in range(1, len(A)):\n",
    "        y_i = b[i] - l_list[i-1]*y_list[-1] \n",
    "        y_list.append(y_i)\n",
    "    x_list = [((y_list[-1])/(m_list[-1]))]\n",
    "    for i in range(1, len(A)):\n",
    "        x_i = ((y_list[len(A)-(i+1)] - (t_list[len(A)-(i+1)]*x_list[-1])) / m_list[len(A)-(i+1)])\n",
    "        x_list.append(x_i)\n",
    "    return np.array(list(reversed(x_list)))"
   ]
  },
  {
   "cell_type": "markdown",
   "id": "b702711b",
   "metadata": {},
   "source": [
    "# Question 1b"
   ]
  },
  {
   "cell_type": "markdown",
   "id": "14b89802",
   "metadata": {},
   "source": [
    "The purpose of the following code is to test the implementation of the tridiagonal_solver function with the following example tridiagonal matrix $A$ and vector $b$, then check the resultant solution against numpy's built-in matrix equation solver."
   ]
  },
  {
   "cell_type": "code",
   "execution_count": 3,
   "id": "d6f6f87d",
   "metadata": {},
   "outputs": [],
   "source": [
    "x = [1, 2, 3, 4]"
   ]
  },
  {
   "cell_type": "code",
   "execution_count": 4,
   "id": "259bab61",
   "metadata": {},
   "outputs": [],
   "source": [
    "A = [[1,48,0,0],[3,0.0000004,1,0],[0,2,3,4],[0,0,1,6]]"
   ]
  },
  {
   "cell_type": "code",
   "execution_count": 5,
   "id": "1e4b4061",
   "metadata": {},
   "outputs": [
    {
     "name": "stdout",
     "output_type": "stream",
     "text": [
      "[[1, 48, 0, 0], [3, 4e-07, 1, 0], [0, 2, 3, 4], [0, 0, 1, 6]]\n"
     ]
    }
   ],
   "source": [
    "print(A)"
   ]
  },
  {
   "cell_type": "code",
   "execution_count": 6,
   "id": "145aaa37",
   "metadata": {},
   "outputs": [],
   "source": [
    "b = np.matmul(A, x)"
   ]
  },
  {
   "cell_type": "code",
   "execution_count": 7,
   "id": "afd02502",
   "metadata": {},
   "outputs": [
    {
     "name": "stdout",
     "output_type": "stream",
     "text": [
      "[97.         6.0000008 29.        27.       ]\n"
     ]
    }
   ],
   "source": [
    "print(b)"
   ]
  },
  {
   "cell_type": "code",
   "execution_count": 8,
   "id": "969bea08",
   "metadata": {},
   "outputs": [
    {
     "data": {
      "text/plain": [
       "array([1., 2., 3., 4.])"
      ]
     },
     "execution_count": 8,
     "metadata": {},
     "output_type": "execute_result"
    }
   ],
   "source": [
    "tridiagonal_solver(A, b)"
   ]
  },
  {
   "cell_type": "code",
   "execution_count": 9,
   "id": "67d46e7d",
   "metadata": {},
   "outputs": [
    {
     "data": {
      "text/plain": [
       "array([1., 2., 3., 4.])"
      ]
     },
     "execution_count": 9,
     "metadata": {},
     "output_type": "execute_result"
    }
   ],
   "source": [
    "np.linalg.solve(A, b)"
   ]
  },
  {
   "cell_type": "markdown",
   "id": "4e4c4a75",
   "metadata": {},
   "source": [
    "# Question 2a"
   ]
  },
  {
   "cell_type": "markdown",
   "id": "92f5bac1",
   "metadata": {},
   "source": [
    "The purpose of the function tridiagonal_creator is to create a tridiagonal matrix of the form $A = \\frac{1}{h^2} \\cdot$ $\\begin{pmatrix}\n",
    "2+c_1h^2 & -1 & 0 & ... & 0\\\\\n",
    "-1 & 2+c_2h^2 & -1 & ... & 0\\\\\n",
    ".\\\\\n",
    ".\\\\\n",
    ".\\\\\n",
    "0 & ... & 0 & -1 & 2+c_Nh^2\\\\\n",
    "\\end{pmatrix}$\n",
    "$\\newline$\n",
    "where $c_j = \\pi^2$ for all $j$. The function takes in the input $N$, the size of the matrix."
   ]
  },
  {
   "cell_type": "code",
   "execution_count": 10,
   "id": "7d703faa",
   "metadata": {},
   "outputs": [],
   "source": [
    "def tridiagonal_creator(N):\n",
    "    h = 1/N\n",
    "    A = np.zeros((N,N))\n",
    "    for j in range(N):\n",
    "        if (j == 0):\n",
    "            A[0][0] = 2+(h**2)*(math.pi**2)\n",
    "            A[0][1] = -1\n",
    "        elif (j == N-1):\n",
    "            A[N-1][N-2] = -1\n",
    "            A[N-1][N-1] = 2+(h**2)*(math.pi**2)\n",
    "        else:\n",
    "            A[j][j-1] = -1\n",
    "            A[j][j] = 2+((h**2)*(math.pi**2))\n",
    "            A[j][j+1] = -1\n",
    "    A = np.array(A)*(1/h**2)\n",
    "    return A"
   ]
  },
  {
   "cell_type": "code",
   "execution_count": 11,
   "id": "248c57b0",
   "metadata": {},
   "outputs": [
    {
     "name": "stdout",
     "output_type": "stream",
     "text": [
      "[[ 5009.8696044 -2500.            0.        ...     0.\n",
      "      0.            0.       ]\n",
      " [-2500.         5009.8696044 -2500.        ...     0.\n",
      "      0.            0.       ]\n",
      " [    0.        -2500.         5009.8696044 ...     0.\n",
      "      0.            0.       ]\n",
      " ...\n",
      " [    0.            0.            0.        ...  5009.8696044\n",
      "  -2500.            0.       ]\n",
      " [    0.            0.            0.        ... -2500.\n",
      "   5009.8696044 -2500.       ]\n",
      " [    0.            0.            0.        ...     0.\n",
      "  -2500.         5009.8696044]]\n"
     ]
    }
   ],
   "source": [
    "A = tridiagonal_creator(50)\n",
    "print(A)"
   ]
  },
  {
   "cell_type": "markdown",
   "id": "516fca20",
   "metadata": {},
   "source": [
    "The following function x_creator creates a list of equally spaced nodes $x_j$, given input parameter $N$ (number of nodes)."
   ]
  },
  {
   "cell_type": "code",
   "execution_count": 12,
   "id": "78513b5f",
   "metadata": {},
   "outputs": [],
   "source": [
    "def x_creator(N):\n",
    "    x_list = []\n",
    "    h = 1/N\n",
    "    for j in range(N):\n",
    "        x_list.append(j*h)\n",
    "    return x_list"
   ]
  },
  {
   "cell_type": "markdown",
   "id": "82a1a254",
   "metadata": {},
   "source": [
    "The following function f_creator evaluates a given function $f$ at each node given by the input x_list, generated by x_creator function. Here $f(x_j) = 2\\pi^2\\sin(\\pi x_j)$."
   ]
  },
  {
   "cell_type": "code",
   "execution_count": 13,
   "id": "22a477e5",
   "metadata": {},
   "outputs": [],
   "source": [
    "def f_creator(x_list):\n",
    "    f_list = []\n",
    "    for j in range(len(x_list)):\n",
    "        f_list.append((2*math.pi**2)*math.sin(math.pi*x_list[j]))\n",
    "    return f_list"
   ]
  },
  {
   "cell_type": "code",
   "execution_count": 14,
   "id": "c8bfdc8c",
   "metadata": {},
   "outputs": [],
   "source": [
    "x_list = x_creator(50)"
   ]
  },
  {
   "cell_type": "code",
   "execution_count": 15,
   "id": "b1dfb9d6",
   "metadata": {},
   "outputs": [
    {
     "name": "stdout",
     "output_type": "stream",
     "text": [
      "[0.0, 0.02, 0.04, 0.06, 0.08, 0.1, 0.12, 0.14, 0.16, 0.18, 0.2, 0.22, 0.24, 0.26, 0.28, 0.3, 0.32, 0.34, 0.36, 0.38, 0.4, 0.42, 0.44, 0.46, 0.48, 0.5, 0.52, 0.54, 0.56, 0.58, 0.6, 0.62, 0.64, 0.66, 0.68, 0.7000000000000001, 0.72, 0.74, 0.76, 0.78, 0.8, 0.8200000000000001, 0.84, 0.86, 0.88, 0.9, 0.92, 0.9400000000000001, 0.96, 0.98]\n"
     ]
    }
   ],
   "source": [
    "print((x_list))"
   ]
  },
  {
   "cell_type": "code",
   "execution_count": 16,
   "id": "bf9c9b22",
   "metadata": {},
   "outputs": [],
   "source": [
    "f_list = f_creator(x_list[1:])"
   ]
  },
  {
   "cell_type": "markdown",
   "id": "27753113",
   "metadata": {},
   "source": [
    "Now let's hardcode in the specified boundary values: $u(0) = u(1) = 0$"
   ]
  },
  {
   "cell_type": "code",
   "execution_count": 17,
   "id": "a2716337",
   "metadata": {},
   "outputs": [],
   "source": [
    "x_list.append(1.0)"
   ]
  },
  {
   "cell_type": "code",
   "execution_count": 18,
   "id": "536bdafd",
   "metadata": {},
   "outputs": [],
   "source": [
    "f_list.append(0)\n",
    "f_list.insert(0,0)"
   ]
  },
  {
   "cell_type": "code",
   "execution_count": 19,
   "id": "645b5ae2",
   "metadata": {},
   "outputs": [
    {
     "name": "stdout",
     "output_type": "stream",
     "text": [
      "[0, 1.239435175786397, 2.4739788671780354, 3.698758894234354, 4.908941609737333, 6.099750975388773, 7.2664874106514965, 8.404546339846702, 9.509436364310515, 10.576796987892621, 11.602415825842423, 12.58224522916721, 13.512418258853536, 14.389263946908864, 15.209321783995126, 15.96935537647813, 16.66636521899467, 17.29760053212984, 17.860570118486677, 18.353052194304166, 18.77310315782272, 19.11906525979236, 19.38957314585166, 19.583559244957648, 19.700257982600966, 19.739208802178716, 19.700257982600966, 19.583559244957648, 19.38957314585166, 19.11906525979236, 18.77310315782272, 18.35305219430417, 17.860570118486674, 17.297600532129838, 16.66636521899467, 15.96935537647813, 15.209321783995126, 14.389263946908862, 13.51241825885354, 12.582245229167214, 11.602415825842424, 10.576796987892621, 9.50943636431052, 8.404546339846705, 7.266487410651501, 6.099750975388774, 4.908941609737334, 3.6987588942343534, 2.473978867178041, 1.2394351757864013, 0]\n",
      "51\n"
     ]
    }
   ],
   "source": [
    "print(f_list)\n",
    "print(len(f_list))"
   ]
  },
  {
   "cell_type": "markdown",
   "id": "29189d56",
   "metadata": {},
   "source": [
    "The following function true_f_creator has the same purpose as f_creator, except here our function $f$ is the actual solution to our BVP, $f(x_j) = \\sin(\\pi x_j)$."
   ]
  },
  {
   "cell_type": "code",
   "execution_count": 20,
   "id": "35e71d9b",
   "metadata": {},
   "outputs": [],
   "source": [
    "def true_f_creator(x_list):\n",
    "    f_list = []\n",
    "    for j in range(len(x_list)):\n",
    "        f_list.append(math.sin(math.pi*x_list[j]))\n",
    "    return f_list   "
   ]
  },
  {
   "cell_type": "code",
   "execution_count": 21,
   "id": "87c593d0",
   "metadata": {},
   "outputs": [],
   "source": [
    "real_f_list = true_f_creator(x_list)"
   ]
  },
  {
   "cell_type": "code",
   "execution_count": 22,
   "id": "b6295817",
   "metadata": {},
   "outputs": [
    {
     "data": {
      "text/plain": [
       "51"
      ]
     },
     "execution_count": 22,
     "metadata": {},
     "output_type": "execute_result"
    }
   ],
   "source": [
    "len(x_list)"
   ]
  },
  {
   "cell_type": "code",
   "execution_count": 23,
   "id": "2dc404d6",
   "metadata": {},
   "outputs": [],
   "source": [
    "A = tridiagonal_creator(49)"
   ]
  },
  {
   "cell_type": "code",
   "execution_count": 24,
   "id": "a394469e",
   "metadata": {},
   "outputs": [],
   "source": [
    "approx_list = tridiagonal_solver(A, f_list[1:len(f_list)-1])"
   ]
  },
  {
   "cell_type": "code",
   "execution_count": 25,
   "id": "8b830017",
   "metadata": {},
   "outputs": [
    {
     "data": {
      "text/plain": [
       "array([0.06406921, 0.12788557, 0.19119722, 0.25375431, 0.31530994,\n",
       "       0.37562118, 0.43445003, 0.49156429, 0.54673858, 0.59975514,\n",
       "       0.65040474, 0.69848749, 0.74381363, 0.78620428, 0.82549213,\n",
       "       0.86152215, 0.89415213, 0.9232533 , 0.94871082, 0.9704242 ,\n",
       "       0.98830777, 1.00229093, 1.01231851, 1.01835093, 1.02036439,\n",
       "       1.01835093, 1.01231851, 1.00229093, 0.98830777, 0.9704242 ,\n",
       "       0.94871082, 0.9232533 , 0.89415213, 0.86152215, 0.82549213,\n",
       "       0.78620428, 0.74381363, 0.69848749, 0.65040474, 0.59975514,\n",
       "       0.54673858, 0.49156429, 0.43445003, 0.37562118, 0.31530994,\n",
       "       0.25375431, 0.19119722, 0.12788557, 0.06406921])"
      ]
     },
     "execution_count": 25,
     "metadata": {},
     "output_type": "execute_result"
    }
   ],
   "source": [
    "approx_list"
   ]
  },
  {
   "cell_type": "code",
   "execution_count": 26,
   "id": "2ac0504d",
   "metadata": {},
   "outputs": [],
   "source": [
    "approx_list = np.append(approx_list, 0)\n",
    "approx_list = np.insert(approx_list, 0, 0)"
   ]
  },
  {
   "cell_type": "code",
   "execution_count": 27,
   "id": "51dc3062",
   "metadata": {},
   "outputs": [
    {
     "name": "stdout",
     "output_type": "stream",
     "text": [
      "51\n"
     ]
    }
   ],
   "source": [
    "print(len(approx_list))"
   ]
  },
  {
   "cell_type": "code",
   "execution_count": 28,
   "id": "dbcdb572",
   "metadata": {},
   "outputs": [
    {
     "data": {
      "text/plain": [
       "<matplotlib.legend.Legend at 0x25331c2c1f0>"
      ]
     },
     "execution_count": 28,
     "metadata": {},
     "output_type": "execute_result"
    },
    {
     "data": {
      "image/png": "[encoded data removed]",
      "text/plain": [
       "<Figure size 900x500 with 1 Axes>"
      ]
     },
     "metadata": {},
     "output_type": "display_data"
    }
   ],
   "source": [
    "plt.figure(figsize=(9,5))\n",
    "plt.plot(np.linspace(0, 1, 51), approx_list, \"-b\", label='Approximation')\n",
    "plt.plot(np.linspace(0, 1, 51), real_f_list, \"-r\", label='Actual solution')\n",
    "plt.title('Approximate solution to BVP vs. Actual solution w/ 50 nodes')\n",
    "plt.legend()"
   ]
  },
  {
   "cell_type": "markdown",
   "id": "3e731b44",
   "metadata": {},
   "source": [
    "# Question 2b"
   ]
  },
  {
   "cell_type": "markdown",
   "id": "f3a92ff5",
   "metadata": {},
   "source": [
    "We can verify that $u(x) = \\sin(\\pi x)$ is a valid solution: $\\newline$\n",
    "$u(0) = \\sin(0) = \\sin(\\pi) = u(1) \\newline$\n",
    "$-u''(x) = \\pi^2sin(\\pi x) = \\pi^2u(x) \\newline$ \n",
    "Therefore, $-u''(x) + \\pi^2u(x) = 2\\pi^2u(x) = 2\\pi^2sin(\\pi x)$ for $x \\in [0, 1]$"
   ]
  },
  {
   "cell_type": "markdown",
   "id": "fa67f539",
   "metadata": {},
   "source": [
    "# Question 2c"
   ]
  },
  {
   "cell_type": "markdown",
   "id": "b4295c99",
   "metadata": {},
   "source": [
    "The following function l2_error computes the square root of the sum of squared differences between our actual solution and our approximation. Its input parameters are the vector of approximate solutions found by solving the matrix equation $Ax=b$ using our tridiagonal solver, and the vector of actual solutions created by evaluating our actual solution $f(x) = \\sin(\\pi x)$ at every node in our list of nodes."
   ]
  },
  {
   "cell_type": "code",
   "execution_count": 29,
   "id": "b12766b2",
   "metadata": {},
   "outputs": [],
   "source": [
    "def l2_error(real, approx):\n",
    "    error_list = []\n",
    "    for i, val in enumerate(real):\n",
    "        error_list.append((val - approx[i])**2)\n",
    "    return math.sqrt(sum(error_list))"
   ]
  },
  {
   "cell_type": "code",
   "execution_count": 30,
   "id": "7d1ca5fe",
   "metadata": {},
   "outputs": [
    {
     "data": {
      "text/plain": [
       "0.10182195170496333"
      ]
     },
     "execution_count": 30,
     "metadata": {},
     "output_type": "execute_result"
    }
   ],
   "source": [
    "l2_error(real_f_list, approx_list)"
   ]
  },
  {
   "cell_type": "code",
   "execution_count": 31,
   "id": "3bf4cbe4",
   "metadata": {},
   "outputs": [],
   "source": [
    "x_list2 = x_creator(100)"
   ]
  },
  {
   "cell_type": "code",
   "execution_count": 32,
   "id": "34aad509",
   "metadata": {},
   "outputs": [],
   "source": [
    "f_list2 = f_creator(x_list2[1:])"
   ]
  },
  {
   "cell_type": "code",
   "execution_count": 33,
   "id": "8fbbdedb",
   "metadata": {},
   "outputs": [],
   "source": [
    "x_list2.append(1.0)\n",
    "f_list2.append(0)\n",
    "f_list2.insert(0,0)"
   ]
  },
  {
   "cell_type": "code",
   "execution_count": 34,
   "id": "5cecdf37",
   "metadata": {},
   "outputs": [
    {
     "name": "stdout",
     "output_type": "stream",
     "text": [
      "[0, 0.620023532078105, 1.239435175786397, 1.8576236466150102, 2.4739788671780354, 3.087892569286244, 3.698758894234354, 4.305974990710429, 4.908941609737333, 5.50706369605913, 6.099750975388773, 6.686418536937567, 7.2664874106514965, 7.839385138584771, 8.404546339846702, 8.961413268564375, 9.509436364310515, 10.048074794453244, 10.576796987892621, 11.095081159657122, 11.602415825842423, 12.098300308384253, 12.58224522916721, 13.053772992981854, 13.512418258853536, 13.957728399277759, 14.389263946908864, 14.80659902826126, 15.209321783995126, 15.597034775371858, 15.96935537647813, 16.325916151831457, 16.66636521899467, 16.990366595841394, 17.29760053212984, 17.587763825057692, 17.860570118486677, 18.115750185541472, 18.353052194304166, 18.572241956341927, 18.77310315782272, 18.955437572990956, 19.11906525979236, 19.26382473745507, 19.38957314585166, 19.496186386484833, 19.583559244957648, 19.651605494807452, 19.700257982600966, 19.72946869420662, 19.739208802178716, 19.72946869420662, 19.700257982600966, 19.651605494807452, 19.583559244957648, 19.49618638648483, 19.38957314585166, 19.263824737455074, 19.11906525979236, 18.955437572990956, 18.77310315782272, 18.572241956341927, 18.35305219430417, 18.115750185541476, 17.860570118486674, 17.587763825057696, 17.297600532129838, 16.990366595841394, 16.66636521899467, 16.325916151831457, 15.96935537647813, 15.597034775371863, 15.209321783995126, 14.80659902826126, 14.389263946908862, 13.957728399277759, 13.51241825885354, 13.053772992981854, 12.582245229167214, 12.098300308384253, 11.602415825842424, 11.095081159657118, 10.576796987892621, 10.04807479445324, 9.50943636431052, 8.961413268564378, 8.404546339846705, 7.839385138584771, 7.266487410651501, 6.686418536937566, 6.099750975388774, 5.507063696059126, 4.908941609737334, 4.305974990710425, 3.6987588942343534, 3.087892569286246, 2.473978867178041, 1.857623646615011, 1.2394351757864013, 0.6200235320781039, 0]\n"
     ]
    }
   ],
   "source": [
    "print(f_list2)"
   ]
  },
  {
   "cell_type": "code",
   "execution_count": 35,
   "id": "865b0615",
   "metadata": {},
   "outputs": [],
   "source": [
    "real_f_list2 = true_f_creator(x_list2)"
   ]
  },
  {
   "cell_type": "markdown",
   "id": "3fbfc781",
   "metadata": {},
   "source": [
    "Repeat earlier steps while halving the mesh size. Since this algorithm is known to be $\\mathcal{O(n^2)}$, we would expect the error rate to decrease by a factor of 4."
   ]
  },
  {
   "cell_type": "code",
   "execution_count": 36,
   "id": "cbbebced",
   "metadata": {},
   "outputs": [],
   "source": [
    "B = tridiagonal_creator(99)"
   ]
  },
  {
   "cell_type": "code",
   "execution_count": 37,
   "id": "55e5bda2",
   "metadata": {},
   "outputs": [],
   "source": [
    "approx_list2 = tridiagonal_solver(B, f_list2[1:len(f_list2)-1])"
   ]
  },
  {
   "cell_type": "code",
   "execution_count": 38,
   "id": "455e66c3",
   "metadata": {},
   "outputs": [],
   "source": [
    "approx_list2 = np.append(approx_list2, 0)\n",
    "approx_list2 = np.insert(approx_list2, 0, 0)"
   ]
  },
  {
   "cell_type": "code",
   "execution_count": 39,
   "id": "fcc59dca",
   "metadata": {},
   "outputs": [
    {
     "data": {
      "text/plain": [
       "<matplotlib.legend.Legend at 0x2533317d100>"
      ]
     },
     "execution_count": 39,
     "metadata": {},
     "output_type": "execute_result"
    },
    {
     "data": {
      "image/png": "[encoded data removed]",
      "text/plain": [
       "<Figure size 900x500 with 1 Axes>"
      ]
     },
     "metadata": {},
     "output_type": "display_data"
    }
   ],
   "source": [
    "plt.figure(figsize=(9,5))\n",
    "plt.plot(np.linspace(0, 1, 101), approx_list2, \"-b\", label='Approximation')\n",
    "plt.plot(np.linspace(0, 1, 101), real_f_list2, \"-r\", label='Actual solution')\n",
    "plt.title('Approximate solution to BVP vs. Actual solution w/ 100 nodes')\n",
    "plt.legend()"
   ]
  },
  {
   "cell_type": "code",
   "execution_count": 40,
   "id": "ea7c5c66",
   "metadata": {},
   "outputs": [
    {
     "data": {
      "text/plain": [
       "0.07135497256285185"
      ]
     },
     "execution_count": 40,
     "metadata": {},
     "output_type": "execute_result"
    }
   ],
   "source": [
    "l2_error(real_f_list2, approx_list2)"
   ]
  },
  {
   "cell_type": "markdown",
   "id": "b6395a70",
   "metadata": {},
   "source": [
    "So our error did not decline as much as expected. This may be because the assumptions of big-$\\mathcal{O}$ do not hold under the l2 norm, or due to other confounding factors."
   ]
  },
  {
   "cell_type": "markdown",
   "id": "3f9bb925",
   "metadata": {},
   "source": [
    "# Question 2d"
   ]
  },
  {
   "cell_type": "markdown",
   "id": "1bcf574e",
   "metadata": {},
   "source": [
    "Consider the equation $y = \\frac{h - \\frac{h}{2}}{\\frac{h}{2} - \\frac{h}{4}}$, where $h$ is our step size. If $y$ approaches $0$ after a sufficient increase in our number of nodes, we can see that our approximation is converging (to the correct solution or something else), as an increase in mesh size is no longer producing a corresponding change in the approximation. If $y$ never converges to $0$, then the algorithm diverges. $\\newline$\n",
    "The rate of convergence is given by, as you double the number of nodes and $h \\rightarrow \\frac{h}{2}$, then the corresonding error rate $E_{h}(f) \\rightarrow \\frac{E_{h}(f)}{2^p}$. $p$ is defined to be the rate of convergence."
   ]
  },
  {
   "cell_type": "code",
   "execution_count": null,
   "id": "41e49341",
   "metadata": {},
   "outputs": [],
   "source": []
  }
 ],
 "metadata": {
  "kernelspec": {
   "display_name": "Python 3 (ipykernel)",
   "language": "python",
   "name": "python3"
  },
  "language_info": {
   "codemirror_mode": {
    "name": "ipython",
    "version": 3
   },
   "file_extension": ".py",
   "mimetype": "text/x-python",
   "name": "python",
   "nbconvert_exporter": "python",
   "pygments_lexer": "ipython3",
   "version": "3.9.7"
  }
 },
 "nbformat": 4,
 "nbformat_minor": 5
}
