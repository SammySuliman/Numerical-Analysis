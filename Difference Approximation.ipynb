{
 "cells": [
  {
   "cell_type": "code",
   "execution_count": 1,
   "id": "4978f258",
   "metadata": {},
   "outputs": [],
   "source": [
    "import numpy as np\n",
    "import pandas as pd\n",
    "import matplotlib.pyplot as plt\n",
    "import math"
   ]
  },
  {
   "cell_type": "markdown",
   "id": "64c12d25",
   "metadata": {},
   "source": [
    "# QUESTION 1a"
   ]
  },
  {
   "cell_type": "markdown",
   "id": "5a3d3081",
   "metadata": {},
   "source": [
    "The purpose of this code is to compute the centered difference approximation for $f'$ at the point $x_0 = \\frac{1}{2}$."
   ]
  },
  {
   "cell_type": "markdown",
   "id": "90639e43",
   "metadata": {},
   "source": [
    "The purpose of h_creator() is to create values for our step interval $h$ based on the formula given in the problem statement, $h = \\frac{0.1}{2^{n}}$. The input parameter is $n$, which will determine the size of $h$."
   ]
  },
  {
   "cell_type": "code",
   "execution_count": 2,
   "id": "2baf99da",
   "metadata": {},
   "outputs": [],
   "source": [
    "def h_creator(n):\n",
    "    h_list = []\n",
    "    for k in range(n):\n",
    "        h_list.append(0.1/(2**k))\n",
    "    return h_list"
   ]
  },
  {
   "cell_type": "markdown",
   "id": "a86cd601",
   "metadata": {},
   "source": [
    "We will compute $h$ for $n = 0,1,..., 10$"
   ]
  },
  {
   "cell_type": "code",
   "execution_count": 3,
   "id": "58043302",
   "metadata": {},
   "outputs": [
    {
     "name": "stdout",
     "output_type": "stream",
     "text": [
      "[0.1, 0.05, 0.025, 0.0125, 0.00625, 0.003125, 0.0015625, 0.00078125, 0.000390625, 0.0001953125]\n"
     ]
    }
   ],
   "source": [
    "h_list = h_creator(10)\n",
    "print(h_list)"
   ]
  },
  {
   "cell_type": "markdown",
   "id": "c3fd2a3b",
   "metadata": {},
   "source": [
    "The purpose of x_creator is to create the \"back\" and \"forward\" nodes, $x_0 - h, x_0 + h$ given input parameter $x_0$."
   ]
  },
  {
   "cell_type": "code",
   "execution_count": 4,
   "id": "559c04b2",
   "metadata": {},
   "outputs": [],
   "source": [
    "def x_creator(x, h):\n",
    "    x_list = [x]\n",
    "    x_list.append(x+h)\n",
    "    x_list.insert(0, x-h)\n",
    "    return x_list"
   ]
  },
  {
   "cell_type": "markdown",
   "id": "2cfd9e6d",
   "metadata": {},
   "source": [
    "We will compute $x_0 - h, x_0 + h$ for $x_0 = \\frac{1}{2}$, $h = \\frac{1}{10}$."
   ]
  },
  {
   "cell_type": "code",
   "execution_count": 5,
   "id": "a34ef400",
   "metadata": {},
   "outputs": [
    {
     "data": {
      "text/plain": [
       "[0.4, 0.5, 0.6]"
      ]
     },
     "execution_count": 5,
     "metadata": {},
     "output_type": "execute_result"
    }
   ],
   "source": [
    "x_creator(0.5, 0.1)"
   ]
  },
  {
   "cell_type": "markdown",
   "id": "37d93628",
   "metadata": {},
   "source": [
    "Define our function $f(x) = e^{x}$."
   ]
  },
  {
   "cell_type": "code",
   "execution_count": 6,
   "id": "906050d2",
   "metadata": {},
   "outputs": [],
   "source": [
    "def f(x):\n",
    "    return np.exp(x)"
   ]
  },
  {
   "cell_type": "markdown",
   "id": "149b81b3",
   "metadata": {},
   "source": [
    "The purpose of deriv_f_approx() is to approximate $f'(x)$ according to the approximation formula $\\frac{f(x_0 + h) - f(x_0 - h)}{2h}$. The input parameters are our function whose derivative is to be approximated $f$, and a list of $h$ values with which to approximate $f'$."
   ]
  },
  {
   "cell_type": "code",
   "execution_count": 7,
   "id": "06775d72",
   "metadata": {},
   "outputs": [],
   "source": [
    "def deriv_f_approx(f, h_list):\n",
    "    f_prime_list = []\n",
    "    for h in h_list:\n",
    "        x_list = x_creator(0.5, h)\n",
    "        f_prime_list.append('Our f prime approximation for h = {0} is {1}'.format(h, (f(x_list[2]) - f(x_list[0])) / (2*h)))\n",
    "    return f_prime_list"
   ]
  },
  {
   "cell_type": "code",
   "execution_count": 8,
   "id": "c989e4db",
   "metadata": {},
   "outputs": [],
   "source": [
    "def deriv_f_approx2(f, h_list):\n",
    "    f_prime_list = []\n",
    "    for h in h_list:\n",
    "        x_list = x_creator(0.5, h)\n",
    "        f_prime_list.append((f(x_list[2]) - f(x_list[0])) / (2*h))\n",
    "    return f_prime_list"
   ]
  },
  {
   "cell_type": "code",
   "execution_count": 9,
   "id": "40970da2",
   "metadata": {},
   "outputs": [
    {
     "data": {
      "text/plain": [
       "['Our f prime approximation for h = 0.1 is 1.6514705137461927',\n",
       " 'Our f prime approximation for h = 0.05 is 1.6494083237722634',\n",
       " 'Our f prime approximation for h = 0.025 is 1.648893017866171',\n",
       " 'Our f prime approximation for h = 0.0125 is 1.6487642064853247',\n",
       " 'Our f prime approximation for h = 0.00625 is 1.6487320045835219',\n",
       " 'Our f prime approximation for h = 0.003125 is 1.6487239541670817',\n",
       " 'Our f prime approximation for h = 0.0015625 is 1.6487219415666488',\n",
       " 'Our f prime approximation for h = 0.00078125 is 1.6487214384167714',\n",
       " 'Our f prime approximation for h = 0.000390625 is 1.648721312629391',\n",
       " 'Our f prime approximation for h = 0.0001953125 is 1.6487212811824747']"
      ]
     },
     "execution_count": 9,
     "metadata": {},
     "output_type": "execute_result"
    }
   ],
   "source": [
    "deriv_f_approx(f, h_list)"
   ]
  },
  {
   "cell_type": "markdown",
   "id": "adbdf28e",
   "metadata": {},
   "source": [
    "The function f_approx_error() computes the error of each of our previously computed approximations, by taking the\n",
    "absolute value after subtracting the approximation from the actual value of $f'(\\frac{1}{2})$"
   ]
  },
  {
   "cell_type": "code",
   "execution_count": 10,
   "id": "cff953ad",
   "metadata": {},
   "outputs": [],
   "source": [
    "def f_approx_error(f, x, h_list):\n",
    "    error_list = []\n",
    "    f_prime_list = deriv_f_approx2(f, h_list)\n",
    "    for index, h in enumerate(h_list):\n",
    "        error_list.append('The error for the f prime approximation with h = {0} is {1}'.format(h, math.fabs(f_prime_list[index] - f(x))))\n",
    "    return error_list"
   ]
  },
  {
   "cell_type": "code",
   "execution_count": 11,
   "id": "08384909",
   "metadata": {},
   "outputs": [
    {
     "data": {
      "text/plain": [
       "['The error for the f prime approximation with h = 0.1 is 0.002749243046064498',\n",
       " 'The error for the f prime approximation with h = 0.05 is 0.0006870530721352353',\n",
       " 'The error for the f prime approximation with h = 0.025 is 0.000171747166042735',\n",
       " 'The error for the f prime approximation with h = 0.0125 is 4.293578519654062e-05',\n",
       " 'The error for the f prime approximation with h = 0.00625 is 1.0733883393676535e-05',\n",
       " 'The error for the f prime approximation with h = 0.003125 is 2.683466953534719e-06',\n",
       " 'The error for the f prime approximation with h = 0.0015625 is 6.708665205579223e-07',\n",
       " 'The error for the f prime approximation with h = 0.00078125 is 1.6771664324011226e-07',\n",
       " 'The error for the f prime approximation with h = 0.000390625 is 4.1929262728501726e-08',\n",
       " 'The error for the f prime approximation with h = 0.0001953125 is 1.0482346546325516e-08']"
      ]
     },
     "execution_count": 11,
     "metadata": {},
     "output_type": "execute_result"
    }
   ],
   "source": [
    "f_approx_error(f, 0.5, h_list)"
   ]
  },
  {
   "cell_type": "code",
   "execution_count": 12,
   "id": "b64307f5",
   "metadata": {},
   "outputs": [],
   "source": [
    "def f_approx_error2(f, x, h_list):\n",
    "    error_list = []\n",
    "    f_prime_list = deriv_f_approx2(f, h_list)\n",
    "    for index, h in enumerate(h_list):\n",
    "        error_list.append(math.fabs(f_prime_list[index] - f(x)))\n",
    "    return error_list"
   ]
  },
  {
   "cell_type": "code",
   "execution_count": 16,
   "id": "a2cb3999",
   "metadata": {},
   "outputs": [],
   "source": [
    "error_rate = f_approx_error2(f, 0.5, h_list)"
   ]
  },
  {
   "cell_type": "markdown",
   "id": "ce6e469d",
   "metadata": {},
   "source": [
    "The purpose of the function error_ratio() is to compute the ratio of the error of an approximation by the error of the approximation with the previous $h$ value."
   ]
  },
  {
   "cell_type": "code",
   "execution_count": 17,
   "id": "1a8e3d5c",
   "metadata": {},
   "outputs": [],
   "source": [
    "def error_ratio(error_rate):\n",
    "    error_ratios = []\n",
    "    try:\n",
    "        for index, error in enumerate(error_rate):\n",
    "            error_ratios.append(error_rate[index+1] / error)\n",
    "    except Exception:\n",
    "        pass\n",
    "    return error_ratios"
   ]
  },
  {
   "cell_type": "markdown",
   "id": "e7e0e152",
   "metadata": {},
   "source": [
    "Since we can see the ratios approach the value $\\frac{1}{4}$, this proves the approximation has a quadratic rate of convergence, since as we divide $h$ by 2, error declines by a factor of 4 ($\\mathcal{O}(h^2)$)."
   ]
  },
  {
   "cell_type": "code",
   "execution_count": 18,
   "id": "765e0be7",
   "metadata": {},
   "outputs": [
    {
     "data": {
      "text/plain": [
       "[0.2499062689705597,\n",
       " 0.24997656368666865,\n",
       " 0.2499941407234465,\n",
       " 0.2499985348944166,\n",
       " 0.24999963714116577,\n",
       " 0.24999991882674122,\n",
       " 0.2500000195279259,\n",
       " 0.25000060768252746,\n",
       " 0.25000073610166446]"
      ]
     },
     "execution_count": 18,
     "metadata": {},
     "output_type": "execute_result"
    }
   ],
   "source": [
    "error_ratio(error_rate)"
   ]
  },
  {
   "cell_type": "markdown",
   "id": "1059319d",
   "metadata": {},
   "source": [
    "# QUESTION 1b"
   ]
  },
  {
   "cell_type": "code",
   "execution_count": 19,
   "id": "bbacea53",
   "metadata": {},
   "outputs": [],
   "source": [
    "x_list = x_creator(0.5, 0.1)"
   ]
  },
  {
   "cell_type": "code",
   "execution_count": 20,
   "id": "3560d68c",
   "metadata": {},
   "outputs": [],
   "source": [
    "M  = np.exp(0.6)"
   ]
  },
  {
   "cell_type": "code",
   "execution_count": 21,
   "id": "c6e58a66",
   "metadata": {},
   "outputs": [],
   "source": [
    "# let's find optimal h_0 value based on formula from lecture notes\n",
    "h_0 = ((3*np.finfo(float).eps * f(x_list[1])) / M**3)**(1/3)"
   ]
  },
  {
   "cell_type": "code",
   "execution_count": 22,
   "id": "1b325f66",
   "metadata": {},
   "outputs": [
    {
     "name": "stdout",
     "output_type": "stream",
     "text": [
      "5.662300119196189e-06\n"
     ]
    }
   ],
   "source": [
    "print(h_0)"
   ]
  },
  {
   "cell_type": "markdown",
   "id": "1db57880",
   "metadata": {},
   "source": [
    "Now let's approximately find the optimal $h_0$ value, by computing 1000 values of h:"
   ]
  },
  {
   "cell_type": "code",
   "execution_count": 23,
   "id": "2d177de0",
   "metadata": {},
   "outputs": [],
   "source": [
    "h_list2 = h_creator(1000)"
   ]
  },
  {
   "cell_type": "code",
   "execution_count": 24,
   "id": "84ae7bd2",
   "metadata": {},
   "outputs": [],
   "source": [
    "error_rate2 = f_approx_error2(f, 0.5, h_list2)"
   ]
  },
  {
   "cell_type": "markdown",
   "id": "7325d666",
   "metadata": {},
   "source": [
    "After plotting, we see the error rapidly increases after a certain point so let's visually examine where error is minimized in the range of $0 \\leq n \\leq 40$."
   ]
  },
  {
   "cell_type": "code",
   "execution_count": 25,
   "id": "120ab7fe",
   "metadata": {},
   "outputs": [
    {
     "data": {
      "text/plain": [
       "Text(0.5, 0, 'n value corresponding to h=0.1/2^n')"
      ]
     },
     "execution_count": 25,
     "metadata": {},
     "output_type": "execute_result"
    },
    {
     "data": {
      "image/png": "[encoded data removed]",
      "text/plain": [
       "<Figure size 1000x600 with 1 Axes>"
      ]
     },
     "metadata": {},
     "output_type": "display_data"
    }
   ],
   "source": [
    "plt.figure(figsize=(10,6))\n",
    "plt.scatter(range(0,1000), error_rate2)\n",
    "plt.xlabel('n value corresponding to h=0.1/2^n')"
   ]
  },
  {
   "cell_type": "code",
   "execution_count": 26,
   "id": "4ffe5228",
   "metadata": {},
   "outputs": [],
   "source": [
    "h_list3 = h_creator(40)"
   ]
  },
  {
   "cell_type": "code",
   "execution_count": 27,
   "id": "7cbf1484",
   "metadata": {},
   "outputs": [],
   "source": [
    "error_rate3 = f_approx_error2(f, 0.5, h_list3)"
   ]
  },
  {
   "cell_type": "code",
   "execution_count": 29,
   "id": "094fb17d",
   "metadata": {},
   "outputs": [
    {
     "data": {
      "text/plain": [
       "Text(0.5, 0, 'n value corresponding to h=0.1/2^n')"
      ]
     },
     "execution_count": 29,
     "metadata": {},
     "output_type": "execute_result"
    },
    {
     "data": {
      "image/png": "[encoded data removed]",
      "text/plain": [
       "<Figure size 1000x600 with 1 Axes>"
      ]
     },
     "metadata": {},
     "output_type": "display_data"
    }
   ],
   "source": [
    "plt.figure(figsize=(10,6))\n",
    "plt.scatter(range(0,40), error_rate3)\n",
    "plt.xlabel('n value corresponding to h=0.1/2^n')"
   ]
  },
  {
   "cell_type": "code",
   "execution_count": 30,
   "id": "5a56ec5a",
   "metadata": {},
   "outputs": [],
   "source": [
    "h_list4 = h_list2[15:30]"
   ]
  },
  {
   "cell_type": "code",
   "execution_count": 31,
   "id": "04cf26ed",
   "metadata": {},
   "outputs": [],
   "source": [
    "error_rate4 = f_approx_error2(f, 0.5, h_list4)"
   ]
  },
  {
   "cell_type": "code",
   "execution_count": 32,
   "id": "659d6275",
   "metadata": {},
   "outputs": [
    {
     "data": {
      "text/plain": [
       "<matplotlib.collections.PathCollection at 0x25a87999130>"
      ]
     },
     "execution_count": 32,
     "metadata": {},
     "output_type": "execute_result"
    },
    {
     "data": {
      "image/png": "[encoded data removed]",
      "text/plain": [
       "<Figure size 1000x600 with 1 Axes>"
      ]
     },
     "metadata": {},
     "output_type": "display_data"
    }
   ],
   "source": [
    "plt.figure(figsize=(10,6))\n",
    "plt.xlabel('n value corresponding to h=0.1/2^n')\n",
    "plt.scatter(range(15,30), error_rate4)"
   ]
  },
  {
   "cell_type": "markdown",
   "id": "ff39c8c1",
   "metadata": {},
   "source": [
    "error appears to be minimized at $n=21$, corresponding to an optimal $h_0 = \\frac{0.1}{2^{21}}$"
   ]
  },
  {
   "cell_type": "code",
   "execution_count": 33,
   "id": "2e96db67",
   "metadata": {},
   "outputs": [],
   "source": [
    "x_list2 = x_creator(0.5, 0.1/(2**21))"
   ]
  },
  {
   "cell_type": "markdown",
   "id": "8dee564d",
   "metadata": {},
   "source": [
    "Let's compute error at $h_0 = \\frac{0.1}{2^{21}}$ to verify:"
   ]
  },
  {
   "cell_type": "code",
   "execution_count": 34,
   "id": "8de6a287",
   "metadata": {},
   "outputs": [],
   "source": [
    "f_approx = (np.exp(x_list2[2]) - np.exp(x_list2[0])) / (2*(0.1/(2**21)))"
   ]
  },
  {
   "cell_type": "code",
   "execution_count": 35,
   "id": "990bae15",
   "metadata": {},
   "outputs": [
    {
     "name": "stdout",
     "output_type": "stream",
     "text": [
      "4.943894182929398e-10\n"
     ]
    }
   ],
   "source": [
    "error = math.fabs(f_approx - np.exp(0.5))\n",
    "print(error)"
   ]
  },
  {
   "cell_type": "markdown",
   "id": "7298624e",
   "metadata": {},
   "source": [
    "# QUESTION 1c"
   ]
  },
  {
   "cell_type": "markdown",
   "id": "7ce66494",
   "metadata": {},
   "source": [
    "The function x_creator2 computes the values $x_0 - h, x_0 - \\frac{h}{2}, x_0, x_0 + \\frac{h}{2}, x_0 + h$ based on the input parameters $x_0, h$."
   ]
  },
  {
   "cell_type": "code",
   "execution_count": 36,
   "id": "68c162ff",
   "metadata": {},
   "outputs": [],
   "source": [
    "def x_creator2(x, h):\n",
    "    x_list = [x]\n",
    "    x_list.append(x + (h/2))\n",
    "    x_list.append(x + h)\n",
    "    x_list.insert(0, x - (h/2))\n",
    "    x_list.insert(0, x - h)\n",
    "    return x_list"
   ]
  },
  {
   "cell_type": "markdown",
   "id": "0ff96209",
   "metadata": {},
   "source": [
    "The function richardsons_extrapolation computes Richardson's extrapolation of our centered difference formula as computed in the lecture notes: $\\frac{-f(x_0 + h) + f(x_0 - h) + 8f(x_0 + \\frac{h}{2}) - 8f(x_0 - \\frac{h}{2})}{6h}$ $\\newline$\n",
    "The input parameters are our function $f$ whose derivative is to be approximated, and a list of $h$ values, where the approximation is calculated at each value."
   ]
  },
  {
   "cell_type": "code",
   "execution_count": 37,
   "id": "0c903cff",
   "metadata": {},
   "outputs": [],
   "source": [
    "def richardsons_extrapolation(f, h_list):\n",
    "    f_prime_list = []\n",
    "    for h in h_list:\n",
    "        x_list = x_creator2(0.5, h)\n",
    "        f_prime_list.append('Our f prime approximation for h = {0} is {1}'.format(h, ((-1*f(x_list[4]) + f(x_list[0]) + 8*f(x_list[3]) - 8*f(x_list[1])) / (6*h))))\n",
    "    return f_prime_list"
   ]
  },
  {
   "cell_type": "code",
   "execution_count": 38,
   "id": "a77ab2a6",
   "metadata": {},
   "outputs": [
    {
     "data": {
      "text/plain": [
       "['Our f prime approximation for h = 0.1 is 1.6487209271142864',\n",
       " 'Our f prime approximation for h = 0.05 is 1.6487212492308065',\n",
       " 'Our f prime approximation for h = 0.025 is 1.6487212693583801',\n",
       " 'Our f prime approximation for h = 0.0125 is 1.648721270616254',\n",
       " 'Our f prime approximation for h = 0.00625 is 1.648721270694911',\n",
       " 'Our f prime approximation for h = 0.003125 is 1.6487212706997902',\n",
       " 'Our f prime approximation for h = 0.0015625 is 1.648721270700169',\n",
       " 'Our f prime approximation for h = 0.00078125 is 1.6487212707003587',\n",
       " 'Our f prime approximation for h = 0.000390625 is 1.6487212707003587',\n",
       " 'Our f prime approximation for h = 0.0001953125 is 1.6487212707018744']"
      ]
     },
     "execution_count": 38,
     "metadata": {},
     "output_type": "execute_result"
    }
   ],
   "source": [
    "richardsons_extrapolation(f, h_list)"
   ]
  },
  {
   "cell_type": "code",
   "execution_count": 39,
   "id": "a03801b9",
   "metadata": {},
   "outputs": [],
   "source": [
    "def richardsons_extrapolation2(f, h_list):\n",
    "    f_prime_list = []\n",
    "    for h in h_list:\n",
    "        x_list = x_creator2(0.5, h)\n",
    "        f_prime_list.append((-1*f(x_list[4]) + f(x_list[0]) + 8*f(x_list[3]) - 8*f(x_list[1])) / (6*h))\n",
    "    return f_prime_list"
   ]
  },
  {
   "cell_type": "code",
   "execution_count": 40,
   "id": "4a76b63d",
   "metadata": {},
   "outputs": [],
   "source": [
    "def richardsons_approx_error(f, x, h_list):\n",
    "    error_list = []\n",
    "    f_prime_list = richardsons_extrapolation2(f, h_list)\n",
    "    for index, h in enumerate(h_list):\n",
    "        error_list.append('The error for the f prime approximation with h = {0} is {1}'.format(h, math.fabs(f_prime_list[index] - f(x))))\n",
    "    return error_list"
   ]
  },
  {
   "cell_type": "code",
   "execution_count": 41,
   "id": "ace39b1a",
   "metadata": {},
   "outputs": [
    {
     "data": {
      "text/plain": [
       "['The error for the f prime approximation with h = 0.1 is 3.435858417777382e-07',\n",
       " 'The error for the f prime approximation with h = 0.05 is 2.146932165381088e-08',\n",
       " 'The error for the f prime approximation with h = 0.025 is 1.341748046002067e-09',\n",
       " 'The error for the f prime approximation with h = 0.0125 is 8.387424088596163e-11',\n",
       " 'The error for the f prime approximation with h = 0.00625 is 5.217160037318536e-12',\n",
       " 'The error for the f prime approximation with h = 0.003125 is 3.3795188869589765e-13',\n",
       " 'The error for the f prime approximation with h = 0.0015625 is 4.085620730620576e-14',\n",
       " 'The error for the f prime approximation with h = 0.00078125 is 2.304822999121825e-13',\n",
       " 'The error for the f prime approximation with h = 0.000390625 is 2.304822999121825e-13',\n",
       " 'The error for the f prime approximation with h = 0.0001953125 is 1.7461587731304462e-12']"
      ]
     },
     "execution_count": 41,
     "metadata": {},
     "output_type": "execute_result"
    }
   ],
   "source": [
    "richardsons_approx_error(f, 0.5, h_list)"
   ]
  },
  {
   "cell_type": "code",
   "execution_count": 42,
   "id": "5ce4971e",
   "metadata": {},
   "outputs": [],
   "source": [
    "def richardsons_approx_error2(f, x, h_list):\n",
    "    error_list = []\n",
    "    f_prime_list = richardsons_extrapolation2(f, h_list)\n",
    "    for index, h in enumerate(h_list):\n",
    "        error_list.append(math.fabs(f_prime_list[index] - f(x)))\n",
    "    return error_list"
   ]
  },
  {
   "cell_type": "code",
   "execution_count": 43,
   "id": "927c90f2",
   "metadata": {},
   "outputs": [],
   "source": [
    "error_rate5 = richardsons_approx_error2(f, 0.5, h_list)"
   ]
  },
  {
   "cell_type": "markdown",
   "id": "a7288bf1",
   "metadata": {},
   "source": [
    "Once again, we will compute the ratios of the error terms to show that they approach the value $\\frac{1}{16}$, so as we divide $h$ by 2, the error diminishes by a factor of 16, meaning it has rate of convergence $\\mathcal{0}(h^4)$. $\\newline$\n",
    "As we can also see, after some time, the error stops diminishing, meaning that the approximation no longer works well for $h$ values outside of a specific range."
   ]
  },
  {
   "cell_type": "code",
   "execution_count": 44,
   "id": "8d30a886",
   "metadata": {},
   "outputs": [
    {
     "data": {
      "text/plain": [
       "[0.06248604873450851,\n",
       " 0.062496061479609066,\n",
       " 0.06251117051064624,\n",
       " 0.06220217294618464,\n",
       " 0.06477698331630916,\n",
       " 0.12089356110381078,\n",
       " 5.641304347826087,\n",
       " 1.0,\n",
       " 7.5761078998073215]"
      ]
     },
     "execution_count": 44,
     "metadata": {},
     "output_type": "execute_result"
    }
   ],
   "source": [
    "error_ratio(error_rate5)"
   ]
  },
  {
   "cell_type": "markdown",
   "id": "edfba6f8",
   "metadata": {},
   "source": [
    "We can use formula from lecture notes to compute optimal $h_0$ value for Richardson's Extrapolation."
   ]
  },
  {
   "cell_type": "code",
   "execution_count": 45,
   "id": "4753ad97",
   "metadata": {},
   "outputs": [
    {
     "name": "stdout",
     "output_type": "stream",
     "text": [
      "0.000740095979741405\n"
     ]
    }
   ],
   "source": [
    "h_0r = np.finfo(float).eps ** (1/5)\n",
    "print(h_0r)"
   ]
  },
  {
   "cell_type": "code",
   "execution_count": 46,
   "id": "ac3586de",
   "metadata": {},
   "outputs": [],
   "source": [
    "error_rate6 = richardsons_approx_error2(f, 0.5, h_list2)"
   ]
  },
  {
   "cell_type": "markdown",
   "id": "10e82c12",
   "metadata": {},
   "source": [
    "Also, we can approximately find the optimal value of $h_0$ by plotting the error for over 1000 values of $h$:"
   ]
  },
  {
   "cell_type": "code",
   "execution_count": 47,
   "id": "69c1c7d9",
   "metadata": {},
   "outputs": [
    {
     "data": {
      "text/plain": [
       "Text(0.5, 0, 'n value corresponding to h=0.1/2^n')"
      ]
     },
     "execution_count": 47,
     "metadata": {},
     "output_type": "execute_result"
    },
    {
     "data": {
      "image/png": "[encoded data removed]",
      "text/plain": [
       "<Figure size 1000x600 with 1 Axes>"
      ]
     },
     "metadata": {},
     "output_type": "display_data"
    }
   ],
   "source": [
    "plt.figure(figsize=(10,6))\n",
    "plt.scatter(range(0,1000), error_rate6)\n",
    "plt.xlabel('n value corresponding to h=0.1/2^n')"
   ]
  },
  {
   "cell_type": "code",
   "execution_count": 48,
   "id": "d254897d",
   "metadata": {},
   "outputs": [],
   "source": [
    "error_rate7 = richardsons_approx_error2(f, 0.5, h_list3)"
   ]
  },
  {
   "cell_type": "code",
   "execution_count": 49,
   "id": "ead44e1d",
   "metadata": {},
   "outputs": [
    {
     "data": {
      "text/plain": [
       "Text(0.5, 0, 'n value corresponding to h=0.1/2^n')"
      ]
     },
     "execution_count": 49,
     "metadata": {},
     "output_type": "execute_result"
    },
    {
     "data": {
      "image/png": "[encoded data removed]",
      "text/plain": [
       "<Figure size 1000x600 with 1 Axes>"
      ]
     },
     "metadata": {},
     "output_type": "display_data"
    }
   ],
   "source": [
    "plt.figure(figsize=(10,6))\n",
    "plt.scatter(range(0,40), error_rate7)\n",
    "plt.xlabel('n value corresponding to h=0.1/2^n')"
   ]
  },
  {
   "cell_type": "code",
   "execution_count": 50,
   "id": "a065d7fa",
   "metadata": {},
   "outputs": [],
   "source": [
    "h_list5 = h_list2[5:20]"
   ]
  },
  {
   "cell_type": "code",
   "execution_count": 51,
   "id": "aea69fd4",
   "metadata": {},
   "outputs": [],
   "source": [
    "error_rate8 = richardsons_approx_error2(f, 0.5, h_list5)"
   ]
  },
  {
   "cell_type": "code",
   "execution_count": 52,
   "id": "c9ba28b2",
   "metadata": {},
   "outputs": [
    {
     "data": {
      "text/plain": [
       "Text(0.5, 0, 'n value corresponding to h=0.1/2^n')"
      ]
     },
     "execution_count": 52,
     "metadata": {},
     "output_type": "execute_result"
    },
    {
     "data": {
      "image/png": "[encoded data removed]",
      "text/plain": [
       "<Figure size 1000x600 with 1 Axes>"
      ]
     },
     "metadata": {},
     "output_type": "display_data"
    }
   ],
   "source": [
    "plt.figure(figsize=(10,6))\n",
    "plt.scatter(range(5,20), error_rate8)\n",
    "plt.xlabel('n value corresponding to h=0.1/2^n')"
   ]
  },
  {
   "cell_type": "markdown",
   "id": "c7af978a",
   "metadata": {},
   "source": [
    "lets choose $n=7$, corresponding to $h_0 = \\frac{0.1}{2^{7}}$ as the optimal $h$ where error is minimized."
   ]
  }
 ],
 "metadata": {
  "kernelspec": {
   "display_name": "Python 3 (ipykernel)",
   "language": "python",
   "name": "python3"
  },
  "language_info": {
   "codemirror_mode": {
    "name": "ipython",
    "version": 3
   },
   "file_extension": ".py",
   "mimetype": "text/x-python",
   "name": "python",
   "nbconvert_exporter": "python",
   "pygments_lexer": "ipython3",
   "version": "3.9.7"
  }
 },
 "nbformat": 4,
 "nbformat_minor": 5
}
