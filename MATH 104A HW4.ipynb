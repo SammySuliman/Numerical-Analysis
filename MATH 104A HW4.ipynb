{
 "cells": [
  {
   "cell_type": "code",
   "execution_count": 1,
   "id": "639e1588",
   "metadata": {},
   "outputs": [],
   "source": [
    "import numpy as np\n",
    "import matplotlib.pyplot as plt\n",
    "import math"
   ]
  },
  {
   "cell_type": "markdown",
   "id": "94c977fa",
   "metadata": {},
   "source": [
    "QUESTION 2"
   ]
  },
  {
   "cell_type": "markdown",
   "id": "5f2d3bd4",
   "metadata": {},
   "source": [
    "Sammy Suliman, last modified: 12/3/2022 $\\newline$\n",
    "The purpose of the code is to compute the real-valued Fourier coefficients $a_k$ and $b_k$ from the complex-valued Fourier\n",
    "coefficients $c_k$ computed my the package numpy.fft.fft. The code does this by first evaluating the Fast Fourier Transform\n",
    "of the function $f(x) = e^{sin(x)}$ at the specified nodes $x_0 = 0, x_1 = \\frac{2\\pi}{5}, x_2 = \\frac{4\\pi}{5}, x_3 = \\frac{6\\pi}{5}, x_4 = \\frac{8\\pi}{5}$. We then use the formula $c_k = \\frac{a_k - i \\cdot b_k}{2}$ to derive the corresponding real coefficients."
   ]
  },
  {
   "cell_type": "code",
   "execution_count": 2,
   "id": "c92cf33d",
   "metadata": {},
   "outputs": [],
   "source": [
    "def x_creator(N):\n",
    "    x_list = []\n",
    "    for j in range(N):\n",
    "        x_list.append((2*j*math.pi)/N)\n",
    "    return x_list"
   ]
  },
  {
   "cell_type": "code",
   "execution_count": 3,
   "id": "82c85b4e",
   "metadata": {},
   "outputs": [],
   "source": [
    "x_list = x_creator(5)"
   ]
  },
  {
   "cell_type": "code",
   "execution_count": 4,
   "id": "f6fd7d3e",
   "metadata": {},
   "outputs": [
    {
     "data": {
      "text/plain": [
       "[0.0,\n",
       " 1.2566370614359172,\n",
       " 2.5132741228718345,\n",
       " 3.7699111843077517,\n",
       " 5.026548245743669]"
      ]
     },
     "execution_count": 4,
     "metadata": {},
     "output_type": "execute_result"
    }
   ],
   "source": [
    "x_list"
   ]
  },
  {
   "cell_type": "code",
   "execution_count": 5,
   "id": "2098b87f",
   "metadata": {},
   "outputs": [],
   "source": [
    "def f(x_list):\n",
    "    f_list = []\n",
    "    for x in x_list:\n",
    "        f_list.append(math.exp(np.sin(x)))\n",
    "    return f_list"
   ]
  },
  {
   "cell_type": "code",
   "execution_count": 6,
   "id": "7c7ed153",
   "metadata": {},
   "outputs": [],
   "source": [
    "f_list = f(x_list)"
   ]
  },
  {
   "cell_type": "code",
   "execution_count": 7,
   "id": "6757c199",
   "metadata": {},
   "outputs": [
    {
     "name": "stdout",
     "output_type": "stream",
     "text": [
      "[1.0, 2.5884429473328665, 1.7999974573044335, 0.5555563403392465, 0.3863326410305472]\n"
     ]
    }
   ],
   "source": [
    "print(f_list)"
   ]
  },
  {
   "cell_type": "code",
   "execution_count": 8,
   "id": "41d77e07",
   "metadata": {},
   "outputs": [],
   "source": [
    "fft_list = np.fft.fft(f_list)"
   ]
  },
  {
   "cell_type": "code",
   "execution_count": 9,
   "id": "b382175c",
   "metadata": {},
   "outputs": [
    {
     "name": "stdout",
     "output_type": "stream",
     "text": [
      "(6.330329386007094+0j)\n",
      "(0.013573157797844848-2.825795492308047j)\n",
      "(-0.6787378508013916-0.11083412853040353j)\n",
      "(-0.6787378508013916+0.11083412853040353j)\n",
      "(0.013573157797844848+2.825795492308047j)\n"
     ]
    }
   ],
   "source": [
    "for c_k in fft_list:\n",
    "    print(c_k)"
   ]
  },
  {
   "cell_type": "code",
   "execution_count": 10,
   "id": "67b4bfe1",
   "metadata": {},
   "outputs": [
    {
     "name": "stdout",
     "output_type": "stream",
     "text": [
      "[12.660658772014187, 0.027146315595689696, -1.3574757016027832, -1.3574757016027832, 0.027146315595689696]\n",
      "[-0.0, 5.651590984616094, 0.22166825706080706, -0.22166825706080706, -5.651590984616094]\n"
     ]
    }
   ],
   "source": [
    "a_k_list = []\n",
    "b_k_list = []\n",
    "for c_k in fft_list:\n",
    "    c_k2 = 2*c_k\n",
    "    b_k_list.append(-1 * np.imag(c_k2))\n",
    "    a_k_list.append(np.real(c_k2))\n",
    "    \n",
    "print(a_k_list)\n",
    "print(b_k_list)"
   ]
  },
  {
   "cell_type": "markdown",
   "id": "c31be336",
   "metadata": {},
   "source": [
    "QUESTION 3"
   ]
  },
  {
   "cell_type": "markdown",
   "id": "2f46957f",
   "metadata": {},
   "source": [
    "Sammy Suliman, last modified: 12/3/2022 $\\newline$\n",
    "The purpose of the code is to find the approximation to the derivative of $f(x) = e^{sin(x)}$, $f'(x) = e^{sin(x)} \\cdot cos(x)$, using the derivative of the spectral approximation $P_8(x)$, $P'_8(x)$ at the interpolating points $x_0 = 0, x_1 = \\frac{\\pi}{4}, x_2 = \\frac{\\pi}{2}, x_3 = \\frac{3\\pi}{4}, x_4 = \\pi, x_5 = \\frac{5\\pi}{4}, x_6 = \\frac{3\\pi}{2}, x_7 = \\frac{7\\pi}{4}$. To do this, we first create a function p that computes the polynomial $P_8(x) = \\sum_{k=-4}^{4} c_ke^{ikx}$ (with an additional factor of $\\frac{1}{2}$ on the first and last terms). We then define a separate derivative function p_prime, which calculates $P_8'(x) = \\sum_{k=-4}^{4} (ik) \\cdot c_ke^{ikx}$. We then compute the actual error, $f'(x) - P_8'(x)$ at 1000 points over the interval $[-5,5]$ and plot."
   ]
  },
  {
   "cell_type": "code",
   "execution_count": 11,
   "id": "e41dd0a2",
   "metadata": {},
   "outputs": [],
   "source": [
    "x_list2 = x_creator(8)"
   ]
  },
  {
   "cell_type": "code",
   "execution_count": 12,
   "id": "0a78ce71",
   "metadata": {},
   "outputs": [
    {
     "data": {
      "text/plain": [
       "[0.0,\n",
       " 0.7853981633974483,\n",
       " 1.5707963267948966,\n",
       " 2.356194490192345,\n",
       " 3.141592653589793,\n",
       " 3.9269908169872414,\n",
       " 4.71238898038469,\n",
       " 5.497787143782138]"
      ]
     },
     "execution_count": 12,
     "metadata": {},
     "output_type": "execute_result"
    }
   ],
   "source": [
    "x_list2"
   ]
  },
  {
   "cell_type": "code",
   "execution_count": 13,
   "id": "18e614a7",
   "metadata": {},
   "outputs": [],
   "source": [
    "def f_prime(x_list):\n",
    "    f_prime_list = []\n",
    "    for x in x_list:\n",
    "        f_prime_list.append(math.exp(np.sin(x)) * np.cos(x))\n",
    "    return f_prime_list"
   ]
  },
  {
   "cell_type": "code",
   "execution_count": 14,
   "id": "d80d1ab9",
   "metadata": {},
   "outputs": [],
   "source": [
    "f_prime_list = f(x_list2)"
   ]
  },
  {
   "cell_type": "code",
   "execution_count": 15,
   "id": "29ebf168",
   "metadata": {},
   "outputs": [],
   "source": [
    "c_k_list1 = np.fft.fft(f_prime_list)"
   ]
  },
  {
   "cell_type": "code",
   "execution_count": 16,
   "id": "fb942a47",
   "metadata": {},
   "outputs": [
    {
     "data": {
      "text/plain": [
       "array([ 1.01285286e+01+0.j        , -2.22044605e-16-4.52128567j,\n",
       "       -1.08616127e+00+0.j        , -2.22044605e-16+0.1795191j ,\n",
       "        4.37939235e-02+0.j        , -2.22044605e-16-0.1795191j ,\n",
       "       -1.08616127e+00+0.j        , -2.22044605e-16+4.52128567j])"
      ]
     },
     "execution_count": 16,
     "metadata": {},
     "output_type": "execute_result"
    }
   ],
   "source": [
    "c_k_list1"
   ]
  },
  {
   "cell_type": "code",
   "execution_count": 17,
   "id": "d7488ba7",
   "metadata": {},
   "outputs": [],
   "source": [
    "def p(x, c_k_list1):\n",
    "    c_k_list2 = []\n",
    "    poly = 0\n",
    "    for c_k in c_k_list1[1:]:\n",
    "        c_k_list2.append(np.conj(c_k))\n",
    "    c_k_list = list(reversed(list(c_k_list2))) + list(c_k_list1)\n",
    "    print(c_k_list)\n",
    "    for k, c_k in enumerate(c_k_list):\n",
    "        if (k == 0) or (k == len(c_k_list)-1):\n",
    "            poly += 0.5 *c_k*np.exp(x * (k-((len(c_k_list)-1)/2)) * 1j)\n",
    "        else:\n",
    "            poly += c_k*np.exp(x * (k-((len(c_k_list)-1)/2)) * 1j)\n",
    "    return poly"
   ]
  },
  {
   "cell_type": "code",
   "execution_count": 31,
   "id": "4d1a8853",
   "metadata": {},
   "outputs": [],
   "source": [
    "def p_prime(x, c_k_list1):\n",
    "    c_k_list2 = []\n",
    "    poly = 0\n",
    "    for c_k in c_k_list1[1:]:\n",
    "        c_k_list2.append(np.conj(c_k))\n",
    "    c_k_list = list(reversed(list(c_k_list2))) + list(c_k_list1)\n",
    "    for k, c_k in enumerate(c_k_list):\n",
    "        if (k == 0) or (k == len(c_k_list)-1):\n",
    "            poly += 0.5 * 1j * (k-((len(c_k_list)-1)/2)) * c_k * np.exp(x * (k-((len(c_k_list)-1)/2)) * 1j)\n",
    "        else:\n",
    "            poly += 1j * (k-((len(c_k_list)-1)/2)) * c_k * np.exp(x * (k-((len(c_k_list)-1)/2)) * 1j)\n",
    "    return poly"
   ]
  },
  {
   "cell_type": "code",
   "execution_count": 32,
   "id": "bf760d8d",
   "metadata": {},
   "outputs": [
    {
     "name": "stdout",
     "output_type": "stream",
     "text": [
      "[(-2.220446049250313e-16-4.521285669832817j), (-1.0861612696304874-0j), (-2.220446049250313e-16+0.17951910474238852j), (0.04379392354506262-0j), (-2.220446049250313e-16-0.17951910474238852j), (-1.0861612696304874-0j), (-2.220446049250313e-16+4.521285669832817j), (10.128528615715911+0j), (-2.220446049250313e-16-4.521285669832817j), (-1.0861612696304874+0j), (-2.220446049250313e-16+0.17951910474238852j), (0.04379392354506262+0j), (-2.220446049250313e-16-0.17951910474238852j), (-1.0861612696304874+0j), (-2.220446049250313e-16+4.521285669832817j)]\n"
     ]
    },
    {
     "data": {
      "text/plain": [
       "(5.871471384284086+0j)"
      ]
     },
     "execution_count": 32,
     "metadata": {},
     "output_type": "execute_result"
    }
   ],
   "source": [
    "p(0, c_k_list1)"
   ]
  },
  {
   "cell_type": "code",
   "execution_count": 33,
   "id": "2ee7fce9",
   "metadata": {},
   "outputs": [
    {
     "data": {
      "text/plain": [
       "(-21.888351930194535+9.992007221626409e-16j)"
      ]
     },
     "execution_count": 33,
     "metadata": {},
     "output_type": "execute_result"
    }
   ],
   "source": [
    "p_prime(0, c_k_list1)"
   ]
  },
  {
   "cell_type": "code",
   "execution_count": 34,
   "id": "ffcaec8e",
   "metadata": {},
   "outputs": [],
   "source": [
    "p_prime_list = []\n",
    "for x in list(np.arange(-5, 5, 0.002)):\n",
    "    p_prime_list.append(p_prime(x, c_k_list1))"
   ]
  },
  {
   "cell_type": "code",
   "execution_count": 35,
   "id": "d2f77856",
   "metadata": {},
   "outputs": [],
   "source": [
    "f_prime_list = f_prime(list(np.arange(-5, 5, 0.002)))"
   ]
  },
  {
   "cell_type": "code",
   "execution_count": 36,
   "id": "88d2884a",
   "metadata": {},
   "outputs": [],
   "source": [
    "error_rate = []\n",
    "for i, f_val in enumerate(f_prime_list):\n",
    "    error_rate.append(f_val - p_prime_list[i])"
   ]
  },
  {
   "cell_type": "code",
   "execution_count": 37,
   "id": "d8d83a50",
   "metadata": {},
   "outputs": [
    {
     "name": "stderr",
     "output_type": "stream",
     "text": [
      "C:\\Users\\filto\\anaconda3\\lib\\site-packages\\numpy\\core\\_asarray.py:102: ComplexWarning: Casting complex values to real discards the imaginary part\n",
      "  return array(a, dtype, copy=False, order=order)\n"
     ]
    },
    {
     "data": {
      "text/plain": [
       "[<matplotlib.lines.Line2D at 0x26a7314ffa0>]"
      ]
     },
     "execution_count": 37,
     "metadata": {},
     "output_type": "execute_result"
    },
    {
     "data": {
      "image/png": "[encoded data removed]",
      "text/plain": [
       "<Figure size 720x432 with 1 Axes>"
      ]
     },
     "metadata": {
      "needs_background": "light"
     },
     "output_type": "display_data"
    }
   ],
   "source": [
    "plt.figure(figsize=(10,6))\n",
    "plt.plot(np.arange(-5, 5, 0.002), error_rate, color='blue', linestyle='dashed', marker='o',\n",
    "         markerfacecolor='red', markersize=3)"
   ]
  }
 ],
 "metadata": {
  "kernelspec": {
   "display_name": "Python 3 (ipykernel)",
   "language": "python",
   "name": "python3"
  },
  "language_info": {
   "codemirror_mode": {
    "name": "ipython",
    "version": 3
   },
   "file_extension": ".py",
   "mimetype": "text/x-python",
   "name": "python",
   "nbconvert_exporter": "python",
   "pygments_lexer": "ipython3",
   "version": "3.9.7"
  }
 },
 "nbformat": 4,
 "nbformat_minor": 5
}
