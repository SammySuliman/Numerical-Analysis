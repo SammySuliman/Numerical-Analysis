{
 "cells": [
  {
   "cell_type": "code",
   "execution_count": 2,
   "id": "b6dc50c6",
   "metadata": {},
   "outputs": [],
   "source": [
    "import math"
   ]
  },
  {
   "cell_type": "markdown",
   "id": "0b3ccdae",
   "metadata": {},
   "source": [
    "# QUESTION 3d"
   ]
  },
  {
   "cell_type": "markdown",
   "id": "72b57e98",
   "metadata": {},
   "source": [
    "Compare the accuracy of this 3-point Gaussian quadrature with that of the simple\n",
    "Simpson rule for approximating $\\int_{-1}^{1} e^{x} \\, dx$"
   ]
  },
  {
   "cell_type": "code",
   "execution_count": 3,
   "id": "d0695211",
   "metadata": {},
   "outputs": [],
   "source": [
    "def Q_2(f):\n",
    "    return ((5/9)*f(-math.sqrt(3/5)) + (8/9)*f(0) + (5/9)*f(math.sqrt(3/5)))"
   ]
  },
  {
   "cell_type": "code",
   "execution_count": 4,
   "id": "1b4e6435",
   "metadata": {},
   "outputs": [],
   "source": [
    "def simpsons_rule(f):\n",
    "    return ((1/3)*f(-1)+(4/3)*f(0)+(1/3)*f(1))"
   ]
  },
  {
   "cell_type": "code",
   "execution_count": 6,
   "id": "d0adfd7d",
   "metadata": {},
   "outputs": [],
   "source": [
    "integral = (math.exp(1) - math.exp(-1))"
   ]
  },
  {
   "cell_type": "code",
   "execution_count": 7,
   "id": "78bbef65",
   "metadata": {},
   "outputs": [],
   "source": [
    "gaussian_error = math.fabs(integral - Q_2(math.exp))"
   ]
  },
  {
   "cell_type": "code",
   "execution_count": 8,
   "id": "cd61708e",
   "metadata": {},
   "outputs": [],
   "source": [
    "simpsons_error = math.fabs(integral - simpsons_rule(math.exp))"
   ]
  },
  {
   "cell_type": "code",
   "execution_count": 9,
   "id": "f701fdf4",
   "metadata": {},
   "outputs": [
    {
     "name": "stdout",
     "output_type": "stream",
     "text": [
      "6.54586075912178e-05\n"
     ]
    }
   ],
   "source": [
    "print(gaussian_error)"
   ]
  },
  {
   "cell_type": "code",
   "execution_count": 10,
   "id": "25693387",
   "metadata": {},
   "outputs": [
    {
     "name": "stdout",
     "output_type": "stream",
     "text": [
      "0.011651369255893052\n"
     ]
    }
   ],
   "source": [
    "print(simpsons_error)"
   ]
  },
  {
   "cell_type": "markdown",
   "id": "85d360dd",
   "metadata": {},
   "source": [
    "Gaussian quadratures exhibit vastly improved error rates compared to Simpson's rule."
   ]
  },
  {
   "cell_type": "markdown",
   "id": "ea6b5ab4",
   "metadata": {},
   "source": [
    "# QUESTION 3e"
   ]
  },
  {
   "cell_type": "markdown",
   "id": "a7d91a3e",
   "metadata": {},
   "source": [
    "Show that the 3-point Gaussian quadrature can be used for approximating $\\int_{a}^{b} f(x)\\, dx$ by doing a simple change of variables and apply this to approximate $\\int_{0}^{4} \\frac{sin(x)}{x}\\, dx$"
   ]
  },
  {
   "cell_type": "code",
   "execution_count": 11,
   "id": "9ec7c5ce",
   "metadata": {},
   "outputs": [],
   "source": [
    "# using change of variables integral formula from class\n",
    "def f(y):\n",
    "    return math.sin(2*y+2)/(2*y+2)"
   ]
  },
  {
   "cell_type": "code",
   "execution_count": 14,
   "id": "f422cab8",
   "metadata": {},
   "outputs": [
    {
     "name": "stdout",
     "output_type": "stream",
     "text": [
      "Our approximation for the integral of sin(x)/x from 0 to 4 is 1.7580220254363572\n"
     ]
    }
   ],
   "source": [
    "print('Our approximation for the integral of sin(x)/x from 0 to 4 is {}'.format(2*Q_2(f)))"
   ]
  },
  {
   "cell_type": "code",
   "execution_count": null,
   "id": "0d60d40b",
   "metadata": {},
   "outputs": [],
   "source": []
  }
 ],
 "metadata": {
  "kernelspec": {
   "display_name": "Python 3 (ipykernel)",
   "language": "python",
   "name": "python3"
  },
  "language_info": {
   "codemirror_mode": {
    "name": "ipython",
    "version": 3
   },
   "file_extension": ".py",
   "mimetype": "text/x-python",
   "name": "python",
   "nbconvert_exporter": "python",
   "pygments_lexer": "ipython3",
   "version": "3.9.7"
  }
 },
 "nbformat": 4,
 "nbformat_minor": 5
}
