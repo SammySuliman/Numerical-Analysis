{
 "cells": [
  {
   "cell_type": "code",
   "execution_count": 2,
   "id": "fe91bbb6",
   "metadata": {},
   "outputs": [],
   "source": [
    "import numpy as np"
   ]
  },
  {
   "cell_type": "markdown",
   "id": "2d6929d6",
   "metadata": {},
   "source": [
    "Sammy Suliman, last modified 2/28/2023"
   ]
  },
  {
   "cell_type": "markdown",
   "id": "b7e9d1b8",
   "metadata": {},
   "source": [
    "# Problem 1a"
   ]
  },
  {
   "cell_type": "markdown",
   "id": "aa417c41",
   "metadata": {},
   "source": [
    "The purpose of the below code is to solve a system of linear equations via LU decomposition. To do this I split the LU algorithm into several helper functions:"
   ]
  },
  {
   "cell_type": "markdown",
   "id": "7cecf04b",
   "metadata": {},
   "source": [
    "The purpose of the partial_pivot function is to swap out the elements along the main diagonal if they are zero with nonzero entries below the diagonal so that it is nonzero. The inputs are U, the matrix that will become upper-triangular (by cancelling out the elements below the diagonal), and j, which is the current column index for which we are trying to cancel out the entries below the diagonal."
   ]
  },
  {
   "cell_type": "code",
   "execution_count": 3,
   "id": "6dabaa21",
   "metadata": {},
   "outputs": [],
   "source": [
    "def partial_pivot(U, j):\n",
    "    if U[j][j] == 0:\n",
    "        for i in range(len(U)):\n",
    "            if U[i][j] != 0:\n",
    "                a = U[i]\n",
    "                U[i] = U[j]\n",
    "                U[j] = a\n",
    "                break\n",
    "    return U"
   ]
  },
  {
   "cell_type": "markdown",
   "id": "fc2fbc41",
   "metadata": {},
   "source": [
    "The purpose of the m_creator function is to create a list of elements $m_{ij}$, which we can place under the $j$-th column of an empty lower-traingular matrix $L_j$ and use to cancel out the entries below the diagonal along the $j$-th column, according to the formula $-m_{ij} = \\frac{-a_{ij}}{a_{jj}}$. It takes in the as inputs U, the matrix that will become upper-triangular (by cancelling out the elements below the diagonal), and j, which is the current column index for which we are trying to cancel out the entries below the diagonal."
   ]
  },
  {
   "cell_type": "code",
   "execution_count": 4,
   "id": "f4351fab",
   "metadata": {},
   "outputs": [],
   "source": [
    "def m_creator(U, j):\n",
    "    m_list = []\n",
    "    for i in range(len(U) - (j+1)):\n",
    "        m_list.append((-1)*U[i+1][j]/U[j][j])\n",
    "    return m_list"
   ]
  },
  {
   "cell_type": "markdown",
   "id": "00bc14c4",
   "metadata": {},
   "source": [
    "The purpose of the L_creator function is to create the lower-traingular matrices $L_j$ with the $m_{ij}$ entries below the diagonal on the $j$-th column. It takes in as inputs the m-list, the column index $j$, and the original matrix $A$ (to create a square matrix the same size as $A$)."
   ]
  },
  {
   "cell_type": "code",
   "execution_count": 5,
   "id": "06b1de06",
   "metadata": {},
   "outputs": [],
   "source": [
    "def L_creator(m_list, j, A):\n",
    "    L = np.identity(len(A))\n",
    "    m_list = [1] + m_list\n",
    "    fill_zeros = (len(A) - len(m_list)) * [0]\n",
    "    if len(fill_zeros) != 0:\n",
    "        m_list = fill_zeros + m_list\n",
    "    L[:, j] = m_list\n",
    "    return L"
   ]
  },
  {
   "cell_type": "markdown",
   "id": "7d0ae271",
   "metadata": {},
   "source": [
    "The purpose of the pivot_finder function is to detect when a diagonal entry is zero, then travel down the column to locate the first nonzero entry and place its index into a list for future pivoting by the partial_pivot function and to record the index of the pivots for the permutation_matrix function."
   ]
  },
  {
   "cell_type": "code",
   "execution_count": 6,
   "id": "5bb3eb7a",
   "metadata": {},
   "outputs": [],
   "source": [
    "def pivot_finder(U, j, A):\n",
    "    pivot_list = []\n",
    "    for j in range(len(A)):\n",
    "        if U[j][j] == 0:\n",
    "            for i in range(len(U)):\n",
    "                if U[i][j] != 0:\n",
    "                    pivot_list.append((i,j))\n",
    "                    break\n",
    "    return pivot_list"
   ]
  },
  {
   "cell_type": "markdown",
   "id": "1ea3bdcb",
   "metadata": {},
   "source": [
    "The purpose of the permutation_matrix function is to construct each permutation matrix $P_i$ by recording each pivot of the rows that is done to construct a nonzero diagonal into a single permutation of the identity matrix. It takes in as input the pivot_list from the pivot_finder function, and the original matrix $A$ as a size parameter."
   ]
  },
  {
   "cell_type": "code",
   "execution_count": 7,
   "id": "18926084",
   "metadata": {},
   "outputs": [],
   "source": [
    "def permutation_matrix(pivot_list, A):\n",
    "    P = np.identity(len(A))\n",
    "    for (i,j) in pivot_list:\n",
    "        a = P[:, i]\n",
    "        P[:, i] = P[:, j]\n",
    "        P[:, j] = a\n",
    "    return P"
   ]
  },
  {
   "cell_type": "markdown",
   "id": "dcc4584b",
   "metadata": {},
   "source": [
    "The purpose of the LU_decomposition function is to perform LU decomposition by iterating through the columns, pivoting out the zero entries along the diagonal, adding the $m_{ij}$ values under the diagonal to create the $L_j$ matrices, multiplying the $L_j$ matrices into our original matrix $A$ to cancel out the values under the diagonal of our matrix $A$ for each column to create our upper-triangular matrix $U$, while multiplying together all the $L_j$ to construct our lower-traingular matrix $L$. The function takes in our original matrix to be decomposed $A$, and outputs a dictionary of our upper-triangular matrix $U$, lower-triangular matrix $L$, and our matrix of permutations $P$."
   ]
  },
  {
   "cell_type": "code",
   "execution_count": 8,
   "id": "89572893",
   "metadata": {},
   "outputs": [],
   "source": [
    "def LU_decomposition(A):\n",
    "    U = A\n",
    "    L = np.identity(len(A))\n",
    "    for j in range(len(A)):\n",
    "        U = partial_pivot(U, j)\n",
    "        m_list = m_creator(U, j)\n",
    "        L_k = L_creator(m_list, j, A)\n",
    "        U = np.matmul(L_k, np.array(U))\n",
    "        L = np.matmul(L_k, L)\n",
    "    pivot_list = pivot_finder(U, j, A)\n",
    "    P = permutation_matrix(pivot_list, U)\n",
    "    return {'U':U, 'L':L, 'P':P}"
   ]
  },
  {
   "cell_type": "markdown",
   "id": "53aae78c",
   "metadata": {},
   "source": [
    "The purpose of the matrix_solver function is to solve the system of linear equations $Ax = b$ via the LU_decomposition function, by first constructing a vector $y = L \\cdot P \\cdot b$, then finding $x = U^{-1} \\cdot y$. It takes in as input the matrix $A$, and a vector $b$."
   ]
  },
  {
   "cell_type": "code",
   "execution_count": 9,
   "id": "3cc1dcd9",
   "metadata": {},
   "outputs": [],
   "source": [
    "def matrix_solver(A, b):\n",
    "    if np.linalg.det(np.array(A)) == 0:\n",
    "        return ('ERROR: Matrix is not invertible')\n",
    "    LU_dict = LU_decomposition(A)\n",
    "    U = LU_dict['U']\n",
    "    L = LU_dict['L']\n",
    "    P = LU_dict['P']\n",
    "    y = np.matmul(P, b)\n",
    "    y = np.matmul(L, y)\n",
    "    U_inv = np.linalg.inv(U)\n",
    "    x = np.matmul(U_inv, y)\n",
    "    return x"
   ]
  },
  {
   "cell_type": "markdown",
   "id": "52dd73d9",
   "metadata": {},
   "source": [
    "# Problem 1b"
   ]
  },
  {
   "cell_type": "code",
   "execution_count": 10,
   "id": "e21bd708",
   "metadata": {},
   "outputs": [],
   "source": [
    "A = [[5, 1, 0, 2, 1], [0, 4, 0, 1, 2], [1, 1, 4, 1, 1], [0, 1, 2, 6, 0], [0, 0, 1, 2, 4]]"
   ]
  },
  {
   "cell_type": "code",
   "execution_count": 11,
   "id": "ae365a2b",
   "metadata": {},
   "outputs": [],
   "source": [
    "b = [1, 2, 3, 4, 5]"
   ]
  },
  {
   "cell_type": "code",
   "execution_count": 12,
   "id": "e22f760e",
   "metadata": {},
   "outputs": [
    {
     "data": {
      "text/plain": [
       "array([-0.17083787, -0.06746464,  0.46028292,  0.52448313,  0.8726877 ])"
      ]
     },
     "execution_count": 12,
     "metadata": {},
     "output_type": "execute_result"
    }
   ],
   "source": [
    "matrix_solver(A, b)"
   ]
  },
  {
   "cell_type": "code",
   "execution_count": 13,
   "id": "a2b04291",
   "metadata": {},
   "outputs": [
    {
     "data": {
      "text/plain": [
       "array([-0.17083787, -0.06746464,  0.46028292,  0.52448313,  0.8726877 ])"
      ]
     },
     "execution_count": 13,
     "metadata": {},
     "output_type": "execute_result"
    }
   ],
   "source": [
    "# verifying the algorithm works correctly with numpy built-in matrix solver\n",
    "np.linalg.solve(A, b)"
   ]
  },
  {
   "cell_type": "markdown",
   "id": "eff68039",
   "metadata": {},
   "source": [
    "# Problem 1c"
   ]
  },
  {
   "cell_type": "code",
   "execution_count": 14,
   "id": "e48f8276",
   "metadata": {},
   "outputs": [],
   "source": [
    "A = [[5, 1, 0, 2], [0, 4, 0, 8], [1, 1, 4, 2], [0, 1, 2, 2]]"
   ]
  },
  {
   "cell_type": "code",
   "execution_count": 15,
   "id": "18fe94af",
   "metadata": {},
   "outputs": [],
   "source": [
    "b = [1, 2, 3, 4]"
   ]
  },
  {
   "cell_type": "code",
   "execution_count": 16,
   "id": "57e9df4a",
   "metadata": {},
   "outputs": [
    {
     "data": {
      "text/plain": [
       "'ERROR: Matrix is not invertible'"
      ]
     },
     "execution_count": 16,
     "metadata": {},
     "output_type": "execute_result"
    }
   ],
   "source": [
    "matrix_solver(A, b)"
   ]
  },
  {
   "cell_type": "markdown",
   "id": "ee372ca9",
   "metadata": {},
   "source": [
    "Function correctly outputs error message indicating a non-invertible input matrix $A$"
   ]
  },
  {
   "cell_type": "code",
   "execution_count": null,
   "id": "14cc533e",
   "metadata": {},
   "outputs": [],
   "source": []
  }
 ],
 "metadata": {
  "kernelspec": {
   "display_name": "Python 3 (ipykernel)",
   "language": "python",
   "name": "python3"
  },
  "language_info": {
   "codemirror_mode": {
    "name": "ipython",
    "version": 3
   },
   "file_extension": ".py",
   "mimetype": "text/x-python",
   "name": "python",
   "nbconvert_exporter": "python",
   "pygments_lexer": "ipython3",
   "version": "3.9.7"
  }
 },
 "nbformat": 4,
 "nbformat_minor": 5
}
