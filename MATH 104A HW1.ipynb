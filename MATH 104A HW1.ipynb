{
 "cells": [
  {
   "cell_type": "code",
   "execution_count": 1,
   "id": "bf0d291b",
   "metadata": {},
   "outputs": [],
   "source": [
    "import math\n",
    "import numpy as np\n",
    "import matplotlib.pyplot as plt\n",
    "import random"
   ]
  },
  {
   "cell_type": "code",
   "execution_count": 3,
   "id": "2a223ef4",
   "metadata": {},
   "outputs": [],
   "source": [
    "# 1. Review and state the following theorems of Calculus:\n",
    "\n",
    "# a) Intermediate Value Theorem\n",
    "# if f is a continuous function on [a, b], and u < v < w, where u = min(f) on [a, b] and w = max(f) on [a, b],\n",
    "# then there must exist some c in [a, b] s.t. f(c) = v\n",
    "#\n",
    "# b) The Mean Value Theorem\n",
    "# if f is a continuous function on [a, b] and differentiable on (a, b), there exists c in [a, b] s.t.\n",
    "# f'(c) = f(b) - f(a) / b - a\n",
    "#\n",
    "# c) Rolle’s Theorem\n",
    "# if f is a continuous function on [a, b] and differentiable on (a, b), and f(a) = f(b), there exists c in [a, b]\n",
    "# s.t. f'(c) = 0\n",
    "#\n",
    "# d) Mean Value Theorem for integrals\n",
    "# if f is a continuous function on [a, b], there exists a c in (a, b) s.t. f(c) = 1/(b-a) * the integral of f(x)\n",
    "# from a to b\n",
    "#\n",
    "# e) Weighted Mean Value Theorem\n",
    "# Assume f is a continuous function on [a, b], g does not change sign on [a, b], the integral of f(x)g(x) from a to b\n",
    "# equals f(eta) * the integral of g(x) from a to b for some eta in [a, b]"
   ]
  },
  {
   "cell_type": "code",
   "execution_count": 4,
   "id": "72b18c90",
   "metadata": {},
   "outputs": [],
   "source": [
    "# Sammy Suliman, last modified: 10/5/2022\n",
    "# The purpose of the code is to implement the Composite Trapezoidal Rule, with the expected output being an\n",
    "# approximation for the definite integral of a function f from a to b. The input parameters are the bounds of the\n",
    "# definite integral, a, b, the number of subdivisions of the integral we want, N, and the function being integrated, f."
   ]
  },
  {
   "cell_type": "code",
   "execution_count": 2,
   "id": "6bb89441",
   "metadata": {},
   "outputs": [],
   "source": [
    "def comp_trap_rule(a, b, N, f):\n",
    "    h = (b-a) / N\n",
    "    x = [(a + j*h) for j in range(1, N)]\n",
    "    trap = ((h / 2) * f(a)) + ((h / 2) * f(b))\n",
    "    trap += h * sum([f(x_j) for x_j in x])\n",
    "    return trap"
   ]
  },
  {
   "cell_type": "code",
   "execution_count": 3,
   "id": "6c0fa49c",
   "metadata": {},
   "outputs": [],
   "source": [
    "def g(x):\n",
    "    return x * np.exp(x**2)"
   ]
  },
  {
   "cell_type": "code",
   "execution_count": 4,
   "id": "193a64b1",
   "metadata": {},
   "outputs": [],
   "source": [
    "# Sammy Suliman, last modified: 10/5/2022\n",
    "# The purpose of the code is to find the error of the Composite Trapezoid Rule for different values of h. The expected\n",
    "# output should verify that error decreases at a quadratic rate as h increases."
   ]
  },
  {
   "cell_type": "code",
   "execution_count": 5,
   "id": "fdec2ecb",
   "metadata": {},
   "outputs": [
    {
     "name": "stdout",
     "output_type": "stream",
     "text": [
      "0.8591409142295225\n"
     ]
    }
   ],
   "source": [
    "# actual value of integral:\n",
    "integral = (1/2) * (np.exp(1) - 1)\n",
    "print(integral)"
   ]
  },
  {
   "cell_type": "code",
   "execution_count": 6,
   "id": "c9b4162f",
   "metadata": {},
   "outputs": [
    {
     "name": "stdout",
     "output_type": "stream",
     "text": [
      "0.005948917949110677\n"
     ]
    }
   ],
   "source": [
    "# h = 1/10\n",
    "error1 = (math.fabs(comp_trap_rule(0, 1, 10, g) - integral))\n",
    "print(error1)"
   ]
  },
  {
   "cell_type": "code",
   "execution_count": 7,
   "id": "5eaf9608",
   "metadata": {},
   "outputs": [
    {
     "name": "stdout",
     "output_type": "stream",
     "text": [
      "0.8650898321786332\n"
     ]
    }
   ],
   "source": [
    "print(comp_trap_rule(0, 1, 10, g))"
   ]
  },
  {
   "cell_type": "code",
   "execution_count": 8,
   "id": "3014ebf4",
   "metadata": {},
   "outputs": [
    {
     "name": "stdout",
     "output_type": "stream",
     "text": [
      "0.0014897491768670612\n"
     ]
    }
   ],
   "source": [
    "# h = 1/20\n",
    "error2 = math.fabs(comp_trap_rule(0, 1, 20, g) - integral)\n",
    "print(error2)"
   ]
  },
  {
   "cell_type": "code",
   "execution_count": 9,
   "id": "65a04608",
   "metadata": {},
   "outputs": [
    {
     "name": "stdout",
     "output_type": "stream",
     "text": [
      "0.00037259543130230277\n"
     ]
    }
   ],
   "source": [
    "# h = 1/40\n",
    "error3 = math.fabs(comp_trap_rule(0, 1, 40, g) - integral)\n",
    "print(error3)"
   ]
  },
  {
   "cell_type": "code",
   "execution_count": 10,
   "id": "d6259d57",
   "metadata": {},
   "outputs": [],
   "source": [
    "# h = 1/80\n",
    "error4 = math.fabs(comp_trap_rule(0, 1, 80, g) - integral)"
   ]
  },
  {
   "cell_type": "code",
   "execution_count": 11,
   "id": "548a9323",
   "metadata": {},
   "outputs": [],
   "source": [
    "# h = 1/160\n",
    "error5 = math.fabs(comp_trap_rule(0, 1, 160, g) - integral)"
   ]
  },
  {
   "cell_type": "code",
   "execution_count": 12,
   "id": "51b65d4b",
   "metadata": {},
   "outputs": [],
   "source": [
    "# h = 1/320\n",
    "error6 = math.fabs(comp_trap_rule(0, 1, 320, g) - integral)"
   ]
  },
  {
   "cell_type": "code",
   "execution_count": 13,
   "id": "19f34298",
   "metadata": {},
   "outputs": [],
   "source": [
    "error_rate = [error1, error2, error3, error4, error5, error6]"
   ]
  },
  {
   "cell_type": "code",
   "execution_count": 17,
   "id": "5a5eb4a3",
   "metadata": {},
   "outputs": [
    {
     "name": "stdout",
     "output_type": "stream",
     "text": [
      "0.250423554268347\n"
     ]
    }
   ],
   "source": [
    "# the following confirms the error rate converges at a quadratic rate\n",
    "# as the h decreases by a rate of one-half, error decreases by a rate of one-fourth \n",
    "print(error2 / error1)"
   ]
  },
  {
   "cell_type": "code",
   "execution_count": 18,
   "id": "8c68fd30",
   "metadata": {},
   "outputs": [
    {
     "name": "stdout",
     "output_type": "stream",
     "text": [
      "0.2501061501412406\n"
     ]
    }
   ],
   "source": [
    "print(error3 / error2)"
   ]
  },
  {
   "cell_type": "code",
   "execution_count": 14,
   "id": "ca3abf25",
   "metadata": {},
   "outputs": [
    {
     "data": {
      "text/plain": [
       "[<matplotlib.lines.Line2D at 0x1ffe49b1c70>]"
      ]
     },
     "execution_count": 14,
     "metadata": {},
     "output_type": "execute_result"
    },
    {
     "data": {
      "image/png": "[encoded data removed]",
      "text/plain": [
       "<Figure size 720x432 with 1 Axes>"
      ]
     },
     "metadata": {
      "needs_background": "light"
     },
     "output_type": "display_data"
    }
   ],
   "source": [
    "# further confirmation (visual)\n",
    "plt.figure(figsize=(10,6))\n",
    "plt.plot(range(0,6), error_rate, color='blue', linestyle='dashed', marker='o',\n",
    "         markerfacecolor='red', markersize=10)"
   ]
  },
  {
   "cell_type": "code",
   "execution_count": 15,
   "id": "15fb2ec5",
   "metadata": {},
   "outputs": [],
   "source": [
    "# 4. Sammy Suliman, last modified: 10/5/2022\n",
    "# The purpose of this code is to construct an approximation for the integral of f(x) = e^(-x^2) using the given\n",
    "# formula for q(h). The expected outcome should be a value approximately equal to 4 with a particular value of h,\n",
    "# and an approximation for the error of this value of h"
   ]
  },
  {
   "cell_type": "code",
   "execution_count": 16,
   "id": "14573071",
   "metadata": {},
   "outputs": [],
   "source": [
    "def f(x):\n",
    "    return np.exp(-x**2)"
   ]
  },
  {
   "cell_type": "code",
   "execution_count": 17,
   "id": "c3c9f106",
   "metadata": {},
   "outputs": [],
   "source": [
    "def q(h):\n",
    "    return (comp_trap_rule(0, 1, int(2/h), f) - comp_trap_rule(0, 1, int(1/h), f)) / (comp_trap_rule(0, 1, int(4/h), f) - comp_trap_rule(0, 1, int(2/h), f))"
   ]
  },
  {
   "cell_type": "code",
   "execution_count": 18,
   "id": "af4995fe",
   "metadata": {},
   "outputs": [
    {
     "name": "stdout",
     "output_type": "stream",
     "text": [
      "[4.0003124429143195, 4.000078121191858, 4.000034723577809, 4.000019531772387, 4.000012502201261, 4.000001352019113, 4.000046355358245, 4.005600617999227]\n"
     ]
    }
   ],
   "source": [
    "qlist = []\n",
    "for h in [1/20, 1/40, 1/60, 1/80, 1/100, 1/1000, 1/10000, 1/100000]:\n",
    "    qlist.append(q(h))\n",
    "print(qlist)"
   ]
  },
  {
   "cell_type": "code",
   "execution_count": 28,
   "id": "571c7119",
   "metadata": {},
   "outputs": [],
   "source": [
    "# we will choose 1/1000 as our h value which nets us a q(h) approximately equal to 4\n",
    "h = 1/1000"
   ]
  },
  {
   "cell_type": "code",
   "execution_count": 30,
   "id": "e73641aa",
   "metadata": {},
   "outputs": [
    {
     "name": "stdout",
     "output_type": "stream",
     "text": [
      "6.131324603586563e-08\n"
     ]
    }
   ],
   "source": [
    "# a) Sammy Suliman, last modified: 10/5/2022\n",
    "# The purpose of this code is to find the approximation of the error, I[e^(-x^2)] - T_h[e^(-x^2)] for h = 1/100\n",
    "approx_error = (4/3) * (comp_trap_rule(0, 1, int(2/h), f) - comp_trap_rule(0, 1, int(1/h), f))\n",
    "print(approx_error)"
   ]
  },
  {
   "cell_type": "code",
   "execution_count": 31,
   "id": "82dec58c",
   "metadata": {},
   "outputs": [
    {
     "name": "stdout",
     "output_type": "stream",
     "text": [
      "0.7468241328124301\n"
     ]
    }
   ],
   "source": [
    "# b) Sammy Suliman, last modified:\n",
    "# The purpose of this code is to use Simpson's rule to find an improved approximation for the integral.\n",
    "# The expected outcome should be a value closer to the actual value of the integral than we would recieve from \n",
    "# the Composite Trapezoidal Rule\n",
    "simpsons = comp_trap_rule(0, 1, int(1/h), f) + approx_error\n",
    "print(simpsons)"
   ]
  },
  {
   "cell_type": "code",
   "execution_count": null,
   "id": "504e13c2",
   "metadata": {},
   "outputs": [],
   "source": [
    "# Simpson's rule is more accurate than the Composite Trapezoidal rule because the error rate of Simpson's rule\n",
    "# is little-o(h^p), which goes to zero faster than h^p for p >= 2 whereas the error rate of the Composite Trapezoidal\n",
    "# rule is big-O(h^2), so the error rate of Simpson's rule converges to zero faster. "
   ]
  }
 ],
 "metadata": {
  "kernelspec": {
   "display_name": "Python 3 (ipykernel)",
   "language": "python",
   "name": "python3"
  },
  "language_info": {
   "codemirror_mode": {
    "name": "ipython",
    "version": 3
   },
   "file_extension": ".py",
   "mimetype": "text/x-python",
   "name": "python",
   "nbconvert_exporter": "python",
   "pygments_lexer": "ipython3",
   "version": "3.9.7"
  }
 },
 "nbformat": 4,
 "nbformat_minor": 5
}
